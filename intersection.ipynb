{
 "cells": [
  {
   "cell_type": "code",
   "execution_count": 4,
   "metadata": {},
   "outputs": [
    {
     "name": "stdout",
     "output_type": "stream",
     "text": [
      "[9, 10, 5, 4, 9]\n"
     ]
    }
   ],
   "source": [
    "from typing import List\n",
    "\n",
    "def intersection(list_1: List[int], list_2: List[int]) -> List[int]:\n",
    "    \"\"\"\n",
    "    Returns a new list containing the elements that are common to both input lists, preserving the original order.\n",
    "\n",
    "    Args:\n",
    "        list_1: The first input list.\n",
    "        list_2: The second input list.\n",
    "\n",
    "    Returns:\n",
    "        A new list containing the common elements.\n",
    "    \"\"\"\n",
    "    return [element for element in list_1 if element in list_2]\n",
    "\n",
    "\n",
    "list_1 = [15, 9, 10, 56, 23, 78, 5, 4, 9]\n",
    "list_2 = [9, 4, 5, 36, 47, 26, 10, 45, 87]\n",
    "\n",
    "result = intersection(list_1, list_2)\n",
    "print(result)  "
   ]
  }
 ],
 "metadata": {
  "kernelspec": {
   "display_name": "Python 3",
   "language": "python",
   "name": "python3"
  },
  "language_info": {
   "codemirror_mode": {
    "name": "ipython",
    "version": 3
   },
   "file_extension": ".py",
   "mimetype": "text/x-python",
   "name": "python",
   "nbconvert_exporter": "python",
   "pygments_lexer": "ipython3",
   "version": "3.11.3"
  },
  "orig_nbformat": 4
 },
 "nbformat": 4,
 "nbformat_minor": 2
}
